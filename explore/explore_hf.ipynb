{
 "cells": [
  {
   "cell_type": "code",
   "execution_count": 1,
   "id": "28dee613-8f89-4b44-85b9-3af97182b3e2",
   "metadata": {},
   "outputs": [],
   "source": [
    "import os"
   ]
  },
  {
   "cell_type": "code",
   "execution_count": 2,
   "id": "a1a77429-eb11-42c1-8ec0-79dd98a30784",
   "metadata": {},
   "outputs": [],
   "source": [
    "#os.environ['TRANSFORMERS_CACHE']"
   ]
  },
  {
   "cell_type": "code",
   "execution_count": 3,
   "id": "d5bed534-429e-43e1-8f67-330d2512fabc",
   "metadata": {},
   "outputs": [
    {
     "name": "stderr",
     "output_type": "stream",
     "text": [
      "C:\\Users\\alire\\anaconda3\\envs\\devTEFE\\Lib\\site-packages\\tqdm\\auto.py:21: TqdmWarning: IProgress not found. Please update jupyter and ipywidgets. See https://ipywidgets.readthedocs.io/en/stable/user_install.html\n",
      "  from .autonotebook import tqdm as notebook_tqdm\n"
     ]
    }
   ],
   "source": [
    "from sentence_transformers import SentenceTransformer"
   ]
  },
  {
   "cell_type": "code",
   "execution_count": 5,
   "id": "1c63437b-7a83-42e7-a1b7-e31244879758",
   "metadata": {},
   "outputs": [
    {
     "name": "stderr",
     "output_type": "stream",
     "text": [
      "C:\\Users\\alire\\anaconda3\\envs\\devTEFE\\Lib\\site-packages\\huggingface_hub\\file_download.py:1132: FutureWarning: `resume_download` is deprecated and will be removed in version 1.0.0. Downloads always resume when possible. If you want to force a new download, use `force_download=True`.\n",
      "  warnings.warn(\n"
     ]
    }
   ],
   "source": [
    "#model = SentenceTransformer('sentence-transformers/all-MiniLM-L6-v2')\n",
    "model = SentenceTransformer('NeuML/pubmedbert-base-embeddings-matryoshka')"
   ]
  },
  {
   "cell_type": "code",
   "execution_count": 13,
   "id": "ac98b166-f39b-4498-bbed-e4de9cf4e8b4",
   "metadata": {},
   "outputs": [
    {
     "data": {
      "text/plain": [
       "(768,)"
      ]
     },
     "execution_count": 13,
     "metadata": {},
     "output_type": "execute_result"
    }
   ],
   "source": [
    "x = model.encode('this is a third sentence, let\\'s keep rolling!')\n",
    "x.shape"
   ]
  },
  {
   "cell_type": "code",
   "execution_count": null,
   "id": "dc0eb085-4531-4390-ac16-fa8f962baedb",
   "metadata": {},
   "outputs": [],
   "source": [
    "#dir(model)\n",
    "model.get_parameter()"
   ]
  },
  {
   "cell_type": "code",
   "execution_count": null,
   "id": "04e75f72-2e7d-435d-a1a6-d6fe1f861c9f",
   "metadata": {},
   "outputs": [],
   "source": [
    "from huggingface_hub import HfApi\n",
    "api = HfApi()\n",
    "models = api.list_models(filter=\"sentence-transformers\", sort=\"downloads\", direction=-1, limit=5)"
   ]
  },
  {
   "cell_type": "code",
   "execution_count": null,
   "id": "185d646d-4ed2-48fc-82ed-a7ed994cdc5a",
   "metadata": {},
   "outputs": [],
   "source": [
    "#model_info = list(models)"
   ]
  },
  {
   "cell_type": "code",
   "execution_count": null,
   "id": "1ac09032-ef2a-465c-bf21-459379598854",
   "metadata": {},
   "outputs": [],
   "source": [
    "model_info[0]"
   ]
  },
  {
   "cell_type": "code",
   "execution_count": null,
   "id": "c5af9b3e-e3f8-486f-b567-1bb78b4c4d55",
   "metadata": {},
   "outputs": [],
   "source": [
    "import pandas as pd\n",
    "#url = 'https://sbert.net/docs/sentence_transformer/training_overview.html'\n",
    "url = 'https://huggingface.co/spaces/mteb/leaderboard'"
   ]
  },
  {
   "cell_type": "code",
   "execution_count": null,
   "id": "a1d159e4-430c-425b-9d50-d046044b6812",
   "metadata": {},
   "outputs": [],
   "source": [
    "#pd.read_html(url)"
   ]
  },
  {
   "cell_type": "code",
   "execution_count": null,
   "id": "ea3b3354-2e3c-4234-bd9f-05f17d226ee3",
   "metadata": {},
   "outputs": [],
   "source": []
  }
 ],
 "metadata": {
  "kernelspec": {
   "display_name": "Python 3 (ipykernel)",
   "language": "python",
   "name": "python3"
  },
  "language_info": {
   "codemirror_mode": {
    "name": "ipython",
    "version": 3
   },
   "file_extension": ".py",
   "mimetype": "text/x-python",
   "name": "python",
   "nbconvert_exporter": "python",
   "pygments_lexer": "ipython3",
   "version": "3.11.9"
  }
 },
 "nbformat": 4,
 "nbformat_minor": 5
}

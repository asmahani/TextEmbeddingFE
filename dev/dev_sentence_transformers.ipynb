{
 "cells": [
  {
   "cell_type": "code",
   "execution_count": 1,
   "id": "b3d5da44-9a1a-400e-b42b-faafcdc4dd60",
   "metadata": {},
   "outputs": [],
   "source": [
    "from dotenv import load_dotenv\n",
    "import os\n",
    "from openai import OpenAI\n",
    "import numpy as np\n",
    "import pandas as pd\n",
    "from sklearn.cluster import KMeans\n",
    "\n",
    "load_dotenv()\n",
    "api_key = os.getenv('OPENAI_API_KEY')\n",
    "client = OpenAI(api_key=api_key)"
   ]
  },
  {
   "cell_type": "code",
   "execution_count": 2,
   "id": "ca81aead-7e02-4926-99d0-ac100861fd3b",
   "metadata": {},
   "outputs": [
    {
     "name": "stderr",
     "output_type": "stream",
     "text": [
      "C:\\Users\\alire\\anaconda3\\envs\\devTEFE\\Lib\\site-packages\\tqdm\\auto.py:21: TqdmWarning: IProgress not found. Please update jupyter and ipywidgets. See https://ipywidgets.readthedocs.io/en/stable/user_install.html\n",
      "  from .autonotebook import tqdm as notebook_tqdm\n"
     ]
    }
   ],
   "source": [
    "from TextEmbeddingFE.main import embed_text"
   ]
  },
  {
   "cell_type": "code",
   "execution_count": 3,
   "id": "1f071522-f56c-4ec8-bb46-5e55062f83f2",
   "metadata": {},
   "outputs": [],
   "source": [
    "#my_embedding_openai = embed_text(openai_client = client, text_list = ['this is a sentence'])\n",
    "#my_embedding_openai.shape"
   ]
  },
  {
   "cell_type": "code",
   "execution_count": null,
   "id": "3c366426-fb0e-4f77-a512-766989de41d8",
   "metadata": {},
   "outputs": [],
   "source": []
  },
  {
   "cell_type": "code",
   "execution_count": 4,
   "id": "11374507-642b-4ab4-b0c0-5d0c105cb904",
   "metadata": {},
   "outputs": [],
   "source": [
    "#from sentence_transformers import SentenceTransformer\n",
    "#model = SentenceTransformer('neuml/pubmedbert-base-embeddings')\n",
    "# Generate embeddings for the target column\n",
    "#my_embedding_st = model.encode(['this is a sentence', 'another sentence'])\n",
    "#my_embedding_st.shape"
   ]
  },
  {
   "cell_type": "code",
   "execution_count": 5,
   "id": "bcf3b231-d4bf-4999-a760-231464171bd8",
   "metadata": {},
   "outputs": [],
   "source": [
    "from TextEmbeddingFE.main import embed_text_wrapper"
   ]
  },
  {
   "cell_type": "code",
   "execution_count": 8,
   "id": "6bb1b1bf-5c7a-452a-ab3f-f9783a2979b9",
   "metadata": {},
   "outputs": [
    {
     "name": "stderr",
     "output_type": "stream",
     "text": [
      "C:\\Users\\alire\\anaconda3\\envs\\devTEFE\\Lib\\site-packages\\huggingface_hub\\file_download.py:1132: FutureWarning: `resume_download` is deprecated and will be removed in version 1.0.0. Downloads always resume when possible. If you want to force a new download, use `force_download=True`.\n",
      "  warnings.warn(\n"
     ]
    },
    {
     "data": {
      "text/plain": [
       "(2, 768)"
      ]
     },
     "execution_count": 8,
     "metadata": {},
     "output_type": "execute_result"
    }
   ],
   "source": [
    "embed_1 = embed_text_wrapper(\n",
    "    text_list = ['a', 'b']\n",
    "    , model_repository = 'huggingface'\n",
    "    , model_name = 'neuml/pubmedbert-base-embeddings'\n",
    ")\n",
    "embed_1.shape"
   ]
  },
  {
   "cell_type": "code",
   "execution_count": 10,
   "id": "a7d2f39c-4e11-404c-8093-49bb01703430",
   "metadata": {},
   "outputs": [
    {
     "data": {
      "text/plain": [
       "(2, 3072)"
      ]
     },
     "execution_count": 10,
     "metadata": {},
     "output_type": "execute_result"
    }
   ],
   "source": [
    "embed_2 = embed_text_wrapper(\n",
    "    text_list = ['a', 'b']\n",
    "    , model_repository = 'openai'\n",
    "    , openai_client = client\n",
    ")\n",
    "embed_2.shape"
   ]
  },
  {
   "cell_type": "code",
   "execution_count": 11,
   "id": "30eebb25-c20c-4df8-bd2c-cdbf8b4c15b1",
   "metadata": {},
   "outputs": [
    {
     "ename": "ValueError",
     "evalue": "model repository must be one of 'openai' or 'huggingface'.",
     "output_type": "error",
     "traceback": [
      "\u001b[1;31m---------------------------------------------------------------------------\u001b[0m",
      "\u001b[1;31mValueError\u001b[0m                                Traceback (most recent call last)",
      "Cell \u001b[1;32mIn[11], line 1\u001b[0m\n\u001b[1;32m----> 1\u001b[0m embed_text_wrapper(\n\u001b[0;32m      2\u001b[0m     text_list \u001b[38;5;241m=\u001b[39m [\u001b[38;5;124m'\u001b[39m\u001b[38;5;124ma\u001b[39m\u001b[38;5;124m'\u001b[39m, \u001b[38;5;124m'\u001b[39m\u001b[38;5;124mb\u001b[39m\u001b[38;5;124m'\u001b[39m]\n\u001b[0;32m      3\u001b[0m     , model_repository \u001b[38;5;241m=\u001b[39m \u001b[38;5;124m'\u001b[39m\u001b[38;5;124msomerepo\u001b[39m\u001b[38;5;124m'\u001b[39m\n\u001b[0;32m      4\u001b[0m )\n",
      "File \u001b[1;32mc:\\users\\alire\\documents\\rd\\asmahani_github\\textembeddingfe\\TextEmbeddingFE\\main.py:132\u001b[0m, in \u001b[0;36membed_text_wrapper\u001b[1;34m(text_list, model_repository, model_name, openai_client)\u001b[0m\n\u001b[0;32m    130\u001b[0m     \u001b[38;5;28;01mreturn\u001b[39;00m model\u001b[38;5;241m.\u001b[39mencode(text_list) \n\u001b[0;32m    131\u001b[0m \u001b[38;5;28;01melse\u001b[39;00m:\n\u001b[1;32m--> 132\u001b[0m     \u001b[38;5;28;01mraise\u001b[39;00m \u001b[38;5;167;01mValueError\u001b[39;00m(\u001b[38;5;124m\"\u001b[39m\u001b[38;5;124mmodel repository must be one of \u001b[39m\u001b[38;5;124m'\u001b[39m\u001b[38;5;124mopenai\u001b[39m\u001b[38;5;124m'\u001b[39m\u001b[38;5;124m or \u001b[39m\u001b[38;5;124m'\u001b[39m\u001b[38;5;124mhuggingface\u001b[39m\u001b[38;5;124m'\u001b[39m\u001b[38;5;124m.\u001b[39m\u001b[38;5;124m\"\u001b[39m)\n\u001b[0;32m    134\u001b[0m \u001b[38;5;28;01mpass\u001b[39;00m\n",
      "\u001b[1;31mValueError\u001b[0m: model repository must be one of 'openai' or 'huggingface'."
     ]
    }
   ],
   "source": [
    "embed_text_wrapper(\n",
    "    text_list = ['a', 'b']\n",
    "    , model_repository = 'somerepo'\n",
    ")"
   ]
  },
  {
   "cell_type": "code",
   "execution_count": null,
   "id": "da6abb63-f0cc-46c0-a765-cae39afd0e91",
   "metadata": {},
   "outputs": [],
   "source": []
  }
 ],
 "metadata": {
  "kernelspec": {
   "display_name": "Python 3 (ipykernel)",
   "language": "python",
   "name": "python3"
  },
  "language_info": {
   "codemirror_mode": {
    "name": "ipython",
    "version": 3
   },
   "file_extension": ".py",
   "mimetype": "text/x-python",
   "name": "python",
   "nbconvert_exporter": "python",
   "pygments_lexer": "ipython3",
   "version": "3.11.9"
  }
 },
 "nbformat": 4,
 "nbformat_minor": 5
}

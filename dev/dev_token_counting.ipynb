{
 "cells": [
  {
   "cell_type": "code",
   "execution_count": 1,
   "id": "7384c314-0b6e-41d0-b578-4549c5f7ad37",
   "metadata": {},
   "outputs": [],
   "source": [
    "from dotenv import load_dotenv\n",
    "import os\n",
    "from openai import OpenAI\n",
    "load_dotenv()\n",
    "api_key = os.getenv('OPENAI_API_KEY')\n",
    "client = OpenAI(api_key=api_key)"
   ]
  },
  {
   "cell_type": "code",
   "execution_count": 2,
   "id": "81945709-6ab9-410c-aa4e-0b8995a5b5af",
   "metadata": {},
   "outputs": [],
   "source": [
    "import numpy as np\n",
    "import pandas as pd"
   ]
  },
  {
   "cell_type": "code",
   "execution_count": 3,
   "id": "19b28728-8b18-406c-90a7-d9707c99910f",
   "metadata": {},
   "outputs": [
    {
     "data": {
      "text/html": [
       "<div>\n",
       "<style scoped>\n",
       "    .dataframe tbody tr th:only-of-type {\n",
       "        vertical-align: middle;\n",
       "    }\n",
       "\n",
       "    .dataframe tbody tr th {\n",
       "        vertical-align: top;\n",
       "    }\n",
       "\n",
       "    .dataframe thead th {\n",
       "        text-align: right;\n",
       "    }\n",
       "</style>\n",
       "<table border=\"1\" class=\"dataframe\">\n",
       "  <thead>\n",
       "    <tr style=\"text-align: right;\">\n",
       "      <th></th>\n",
       "      <th>project_id</th>\n",
       "      <th>operation_no</th>\n",
       "      <th>2.01 Diagnosis</th>\n",
       "      <th>2.02 Previous Procedure</th>\n",
       "      <th>2.07 Comorbid Conditions</th>\n",
       "      <th>3.09 Operation performed</th>\n",
       "    </tr>\n",
       "  </thead>\n",
       "  <tbody>\n",
       "    <tr>\n",
       "      <th>0</th>\n",
       "      <td>PR-00000001</td>\n",
       "      <td>1</td>\n",
       "      <td>155500. Cardiac conduit complication;010125. P...</td>\n",
       "      <td>123610. Replacement of cardiac conduit;123601....</td>\n",
       "      <td>140206. 22q11 microdeletion with full DiGeorge...</td>\n",
       "      <td>123610. Replacement of cardiac conduit</td>\n",
       "    </tr>\n",
       "    <tr>\n",
       "      <th>1</th>\n",
       "      <td>PR-00000002</td>\n",
       "      <td>2</td>\n",
       "      <td>155516. Cardiac conduit failure;103604. Aortic...</td>\n",
       "      <td>No previous procedure</td>\n",
       "      <td>102000. No pre-procedural risk factors</td>\n",
       "      <td>123610. Replacement of cardiac conduit;121614....</td>\n",
       "    </tr>\n",
       "    <tr>\n",
       "      <th>2</th>\n",
       "      <td>PR-00000003</td>\n",
       "      <td>3</td>\n",
       "      <td>010101. Tetralogy of Fallot;090591. Pulmonary ...</td>\n",
       "      <td>No previous procedure</td>\n",
       "      <td>102000. No pre-procedural risk factors</td>\n",
       "      <td>122621. Absent pulmonary valve syndrome (Fallo...</td>\n",
       "    </tr>\n",
       "    <tr>\n",
       "      <th>3</th>\n",
       "      <td>PR-00000004</td>\n",
       "      <td>4</td>\n",
       "      <td>091591. Aortic regurgitation;091519. Congenita...</td>\n",
       "      <td>123601. RV to pulmonary artery conduit constru...</td>\n",
       "      <td>102000. No pre-procedural risk factors</td>\n",
       "      <td>121791. Aortic root replacement: valve sparing...</td>\n",
       "    </tr>\n",
       "    <tr>\n",
       "      <th>4</th>\n",
       "      <td>PR-00000005</td>\n",
       "      <td>5</td>\n",
       "      <td>155516. Cardiac conduit failure;090101. Common...</td>\n",
       "      <td>123601. RV to pulmonary artery conduit constru...</td>\n",
       "      <td>160305. Lung disease;158210. Renal failure;140...</td>\n",
       "      <td>123610. Replacement of cardiac conduit;123452....</td>\n",
       "    </tr>\n",
       "  </tbody>\n",
       "</table>\n",
       "</div>"
      ],
      "text/plain": [
       "    project_id  operation_no  \\\n",
       "0  PR-00000001             1   \n",
       "1  PR-00000002             2   \n",
       "2  PR-00000003             3   \n",
       "3  PR-00000004             4   \n",
       "4  PR-00000005             5   \n",
       "\n",
       "                                      2.01 Diagnosis  \\\n",
       "0  155500. Cardiac conduit complication;010125. P...   \n",
       "1  155516. Cardiac conduit failure;103604. Aortic...   \n",
       "2  010101. Tetralogy of Fallot;090591. Pulmonary ...   \n",
       "3  091591. Aortic regurgitation;091519. Congenita...   \n",
       "4  155516. Cardiac conduit failure;090101. Common...   \n",
       "\n",
       "                             2.02 Previous Procedure  \\\n",
       "0  123610. Replacement of cardiac conduit;123601....   \n",
       "1                              No previous procedure   \n",
       "2                              No previous procedure   \n",
       "3  123601. RV to pulmonary artery conduit constru...   \n",
       "4  123601. RV to pulmonary artery conduit constru...   \n",
       "\n",
       "                            2.07 Comorbid Conditions  \\\n",
       "0  140206. 22q11 microdeletion with full DiGeorge...   \n",
       "1             102000. No pre-procedural risk factors   \n",
       "2             102000. No pre-procedural risk factors   \n",
       "3             102000. No pre-procedural risk factors   \n",
       "4  160305. Lung disease;158210. Renal failure;140...   \n",
       "\n",
       "                            3.09 Operation performed  \n",
       "0             123610. Replacement of cardiac conduit  \n",
       "1  123610. Replacement of cardiac conduit;121614....  \n",
       "2  122621. Absent pulmonary valve syndrome (Fallo...  \n",
       "3  121791. Aortic root replacement: valve sparing...  \n",
       "4  123610. Replacement of cardiac conduit;123452....  "
      ]
     },
     "execution_count": 3,
     "metadata": {},
     "output_type": "execute_result"
    }
   ],
   "source": [
    "dfText = pd.read_csv(\n",
    "    'C:/Users/alire/OneDrive/data/statman_bitbucket/aki/LLM/all_text_columns_na_handled.csv'\n",
    ")\n",
    "dfText.head()"
   ]
  },
  {
   "cell_type": "code",
   "execution_count": 6,
   "id": "104e1212-91f3-422e-8c17-ef1ec7e8a5e8",
   "metadata": {},
   "outputs": [
    {
     "data": {
      "text/plain": [
       "(138, 28084)"
      ]
     },
     "execution_count": 6,
     "metadata": {},
     "output_type": "execute_result"
    }
   ],
   "source": [
    "from TextEmbeddingFE.main import count_tokens\n",
    "count_tokens(\n",
    "    text_list = list(dfText.loc[:, '2.01 Diagnosis'])\n",
    "    #text_list = list(dfText.loc[:, '2.02 Previous Procedure'])\n",
    "    #text_list = list(dfText.loc[:, '3.09 Operation performed'])\n",
    ")"
   ]
  },
  {
   "cell_type": "code",
   "execution_count": null,
   "id": "c43c4968-1717-4d5f-8437-00d4779232bf",
   "metadata": {},
   "outputs": [],
   "source": []
  }
 ],
 "metadata": {
  "kernelspec": {
   "display_name": "Python 3 (ipykernel)",
   "language": "python",
   "name": "python3"
  },
  "language_info": {
   "codemirror_mode": {
    "name": "ipython",
    "version": 3
   },
   "file_extension": ".py",
   "mimetype": "text/x-python",
   "name": "python",
   "nbconvert_exporter": "python",
   "pygments_lexer": "ipython3",
   "version": "3.11.9"
  }
 },
 "nbformat": 4,
 "nbformat_minor": 5
}

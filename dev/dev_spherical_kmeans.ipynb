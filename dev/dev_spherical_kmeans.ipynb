{
 "cells": [
  {
   "cell_type": "code",
   "execution_count": 1,
   "id": "30fd4311-e11d-46a3-89cc-4ba6bd943421",
   "metadata": {},
   "outputs": [],
   "source": [
    "from dotenv import load_dotenv\n",
    "import os\n",
    "import pandas as pd\n",
    "import numpy as np\n",
    "\n",
    "# Load environment variables from .env file\n",
    "load_dotenv()\n",
    "api_key = os.getenv('OPENAI_API_KEY')\n",
    "\n",
    "from openai import OpenAI\n",
    "client = OpenAI(api_key=api_key)"
   ]
  },
  {
   "cell_type": "code",
   "execution_count": 2,
   "id": "edb98b1d-bfd6-4753-a9aa-b7ebcd93193e",
   "metadata": {},
   "outputs": [],
   "source": [
    "from TextEmbeddingFE.main import cluster_embeddings"
   ]
  },
  {
   "cell_type": "code",
   "execution_count": 3,
   "id": "ed9ff215-4fef-41ea-9de7-e1cb5bd8acbd",
   "metadata": {},
   "outputs": [
    {
     "data": {
      "text/html": [
       "<div>\n",
       "<style scoped>\n",
       "    .dataframe tbody tr th:only-of-type {\n",
       "        vertical-align: middle;\n",
       "    }\n",
       "\n",
       "    .dataframe tbody tr th {\n",
       "        vertical-align: top;\n",
       "    }\n",
       "\n",
       "    .dataframe thead th {\n",
       "        text-align: right;\n",
       "    }\n",
       "</style>\n",
       "<table border=\"1\" class=\"dataframe\">\n",
       "  <thead>\n",
       "    <tr style=\"text-align: right;\">\n",
       "      <th></th>\n",
       "      <th>project_id</th>\n",
       "      <th>operation_no</th>\n",
       "      <th>X1</th>\n",
       "      <th>X2</th>\n",
       "      <th>X3</th>\n",
       "      <th>X4</th>\n",
       "      <th>X5</th>\n",
       "      <th>X6</th>\n",
       "      <th>X7</th>\n",
       "      <th>X8</th>\n",
       "      <th>...</th>\n",
       "      <th>X3063</th>\n",
       "      <th>X3064</th>\n",
       "      <th>X3065</th>\n",
       "      <th>X3066</th>\n",
       "      <th>X3067</th>\n",
       "      <th>X3068</th>\n",
       "      <th>X3069</th>\n",
       "      <th>X3070</th>\n",
       "      <th>X3071</th>\n",
       "      <th>X3072</th>\n",
       "    </tr>\n",
       "  </thead>\n",
       "  <tbody>\n",
       "    <tr>\n",
       "      <th>0</th>\n",
       "      <td>PR-00000001</td>\n",
       "      <td>1</td>\n",
       "      <td>0.011898</td>\n",
       "      <td>0.036309</td>\n",
       "      <td>-0.005463</td>\n",
       "      <td>0.008832</td>\n",
       "      <td>0.014760</td>\n",
       "      <td>0.027967</td>\n",
       "      <td>-0.035566</td>\n",
       "      <td>0.017884</td>\n",
       "      <td>...</td>\n",
       "      <td>-0.010715</td>\n",
       "      <td>0.010800</td>\n",
       "      <td>-0.012413</td>\n",
       "      <td>0.012261</td>\n",
       "      <td>0.008452</td>\n",
       "      <td>0.008917</td>\n",
       "      <td>0.010977</td>\n",
       "      <td>-0.029892</td>\n",
       "      <td>-0.010766</td>\n",
       "      <td>-0.010437</td>\n",
       "    </tr>\n",
       "    <tr>\n",
       "      <th>1</th>\n",
       "      <td>PR-00000002</td>\n",
       "      <td>2</td>\n",
       "      <td>0.000332</td>\n",
       "      <td>0.027386</td>\n",
       "      <td>-0.020735</td>\n",
       "      <td>-0.030093</td>\n",
       "      <td>0.011078</td>\n",
       "      <td>0.034497</td>\n",
       "      <td>-0.051592</td>\n",
       "      <td>-0.001025</td>\n",
       "      <td>...</td>\n",
       "      <td>-0.004109</td>\n",
       "      <td>0.002861</td>\n",
       "      <td>0.003123</td>\n",
       "      <td>-0.000474</td>\n",
       "      <td>0.001826</td>\n",
       "      <td>0.023946</td>\n",
       "      <td>0.022539</td>\n",
       "      <td>-0.020903</td>\n",
       "      <td>-0.003339</td>\n",
       "      <td>0.002045</td>\n",
       "    </tr>\n",
       "    <tr>\n",
       "      <th>2</th>\n",
       "      <td>PR-00000003</td>\n",
       "      <td>3</td>\n",
       "      <td>-0.013588</td>\n",
       "      <td>0.006824</td>\n",
       "      <td>-0.002654</td>\n",
       "      <td>0.027271</td>\n",
       "      <td>0.033145</td>\n",
       "      <td>0.019402</td>\n",
       "      <td>-0.031663</td>\n",
       "      <td>0.027783</td>\n",
       "      <td>...</td>\n",
       "      <td>0.004871</td>\n",
       "      <td>0.006225</td>\n",
       "      <td>-0.000025</td>\n",
       "      <td>0.002941</td>\n",
       "      <td>-0.011971</td>\n",
       "      <td>0.019294</td>\n",
       "      <td>0.002917</td>\n",
       "      <td>0.003523</td>\n",
       "      <td>0.004716</td>\n",
       "      <td>0.002019</td>\n",
       "    </tr>\n",
       "    <tr>\n",
       "      <th>3</th>\n",
       "      <td>PR-00000004</td>\n",
       "      <td>4</td>\n",
       "      <td>0.028444</td>\n",
       "      <td>0.027613</td>\n",
       "      <td>-0.017272</td>\n",
       "      <td>-0.006343</td>\n",
       "      <td>0.022245</td>\n",
       "      <td>0.052718</td>\n",
       "      <td>-0.014736</td>\n",
       "      <td>0.047054</td>\n",
       "      <td>...</td>\n",
       "      <td>0.011954</td>\n",
       "      <td>-0.006590</td>\n",
       "      <td>0.000384</td>\n",
       "      <td>-0.010179</td>\n",
       "      <td>0.002074</td>\n",
       "      <td>0.015004</td>\n",
       "      <td>0.001219</td>\n",
       "      <td>-0.010087</td>\n",
       "      <td>0.011813</td>\n",
       "      <td>0.037503</td>\n",
       "    </tr>\n",
       "    <tr>\n",
       "      <th>4</th>\n",
       "      <td>PR-00000005</td>\n",
       "      <td>5</td>\n",
       "      <td>0.015713</td>\n",
       "      <td>0.057943</td>\n",
       "      <td>-0.016102</td>\n",
       "      <td>0.009510</td>\n",
       "      <td>-0.026413</td>\n",
       "      <td>0.027086</td>\n",
       "      <td>-0.050581</td>\n",
       "      <td>0.033581</td>\n",
       "      <td>...</td>\n",
       "      <td>-0.001399</td>\n",
       "      <td>-0.003857</td>\n",
       "      <td>-0.012810</td>\n",
       "      <td>-0.008986</td>\n",
       "      <td>-0.001552</td>\n",
       "      <td>0.009922</td>\n",
       "      <td>0.005754</td>\n",
       "      <td>-0.013910</td>\n",
       "      <td>-0.013042</td>\n",
       "      <td>-0.006614</td>\n",
       "    </tr>\n",
       "  </tbody>\n",
       "</table>\n",
       "<p>5 rows × 3074 columns</p>\n",
       "</div>"
      ],
      "text/plain": [
       "    project_id  operation_no        X1        X2        X3        X4  \\\n",
       "0  PR-00000001             1  0.011898  0.036309 -0.005463  0.008832   \n",
       "1  PR-00000002             2  0.000332  0.027386 -0.020735 -0.030093   \n",
       "2  PR-00000003             3 -0.013588  0.006824 -0.002654  0.027271   \n",
       "3  PR-00000004             4  0.028444  0.027613 -0.017272 -0.006343   \n",
       "4  PR-00000005             5  0.015713  0.057943 -0.016102  0.009510   \n",
       "\n",
       "         X5        X6        X7        X8  ...     X3063     X3064     X3065  \\\n",
       "0  0.014760  0.027967 -0.035566  0.017884  ... -0.010715  0.010800 -0.012413   \n",
       "1  0.011078  0.034497 -0.051592 -0.001025  ... -0.004109  0.002861  0.003123   \n",
       "2  0.033145  0.019402 -0.031663  0.027783  ...  0.004871  0.006225 -0.000025   \n",
       "3  0.022245  0.052718 -0.014736  0.047054  ...  0.011954 -0.006590  0.000384   \n",
       "4 -0.026413  0.027086 -0.050581  0.033581  ... -0.001399 -0.003857 -0.012810   \n",
       "\n",
       "      X3066     X3067     X3068     X3069     X3070     X3071     X3072  \n",
       "0  0.012261  0.008452  0.008917  0.010977 -0.029892 -0.010766 -0.010437  \n",
       "1 -0.000474  0.001826  0.023946  0.022539 -0.020903 -0.003339  0.002045  \n",
       "2  0.002941 -0.011971  0.019294  0.002917  0.003523  0.004716  0.002019  \n",
       "3 -0.010179  0.002074  0.015004  0.001219 -0.010087  0.011813  0.037503  \n",
       "4 -0.008986 -0.001552  0.009922  0.005754 -0.013910 -0.013042 -0.006614  \n",
       "\n",
       "[5 rows x 3074 columns]"
      ]
     },
     "execution_count": 3,
     "metadata": {},
     "output_type": "execute_result"
    }
   ],
   "source": [
    "dfEmbeddings = pd.read_csv(\n",
    "    'C:/Users/alire/OneDrive/data/statman_bitbucket/aki/LLM/March2024/openai_3large_operation.csv'\n",
    ")\n",
    "dfEmbeddings.head()"
   ]
  },
  {
   "cell_type": "code",
   "execution_count": 4,
   "id": "e4d146c7-607e-48d4-a19b-e09406b40d80",
   "metadata": {},
   "outputs": [
    {
     "name": "stderr",
     "output_type": "stream",
     "text": [
      "C:\\Users\\alire\\anaconda3\\Lib\\site-packages\\sklearn\\cluster\\_kmeans.py:1382: UserWarning: KMeans is known to have a memory leak on Windows with MKL, when there are less chunks than available threads. You can avoid it by setting the environment variable OMP_NUM_THREADS=4.\n",
      "  warnings.warn(\n"
     ]
    },
    {
     "data": {
      "text/plain": [
       "array([6, 6, 7, 8, 1])"
      ]
     },
     "execution_count": 4,
     "metadata": {},
     "output_type": "execute_result"
    }
   ],
   "source": [
    "my_labels = cluster_embeddings(\n",
    "    X = dfEmbeddings.loc[:, [\"X\" + str(n+1) for n in range(10)]].to_numpy()\n",
    "    #X = np.array([1,2])\n",
    "    , n_clusters = 10\n",
    "    , n_init = 10\n",
    "    #, spherical = False\n",
    ")\n",
    "my_labels[:5]"
   ]
  },
  {
   "cell_type": "code",
   "execution_count": 5,
   "id": "a6084ea0-6c99-4749-bbc4-9634dfa0dd1d",
   "metadata": {},
   "outputs": [
    {
     "name": "stderr",
     "output_type": "stream",
     "text": [
      "C:\\Users\\alire\\anaconda3\\Lib\\site-packages\\sklearn\\cluster\\_kmeans.py:1382: UserWarning: KMeans is known to have a memory leak on Windows with MKL, when there are less chunks than available threads. You can avoid it by setting the environment variable OMP_NUM_THREADS=4.\n",
      "  warnings.warn(\n"
     ]
    },
    {
     "data": {
      "text/plain": [
       "array([3, 8, 3, 7, 1])"
      ]
     },
     "execution_count": 5,
     "metadata": {},
     "output_type": "execute_result"
    }
   ],
   "source": [
    "my_labels_2 = cluster_embeddings(\n",
    "    X = dfEmbeddings.loc[:, [\"X\" + str(n+1) for n in range(10)]].to_numpy()\n",
    "    #X = np.array([1,2])\n",
    "    , n_clusters = 10\n",
    "    , n_init = 1\n",
    "    #, spherical = True\n",
    ")\n",
    "my_labels_2[:5]"
   ]
  },
  {
   "cell_type": "code",
   "execution_count": null,
   "id": "1c304bdb-1c66-4f23-a3d7-788ef9e3ab58",
   "metadata": {},
   "outputs": [],
   "source": []
  }
 ],
 "metadata": {
  "kernelspec": {
   "display_name": "Python 3 (ipykernel)",
   "language": "python",
   "name": "python3"
  },
  "language_info": {
   "codemirror_mode": {
    "name": "ipython",
    "version": 3
   },
   "file_extension": ".py",
   "mimetype": "text/x-python",
   "name": "python",
   "nbconvert_exporter": "python",
   "pygments_lexer": "ipython3",
   "version": "3.11.7"
  }
 },
 "nbformat": 4,
 "nbformat_minor": 5
}

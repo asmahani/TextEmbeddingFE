{
 "cells": [
  {
   "cell_type": "code",
   "execution_count": 1,
   "id": "d9f989ce-a185-441f-9e9f-27aa38ffb57e",
   "metadata": {},
   "outputs": [],
   "source": [
    "import pandas as pd\n",
    "import numpy as np\n",
    "\n",
    "dfText = pd.read_csv('C:/Users/alire/OneDrive/data/statman_bitbucket/aki/LLM/March2024/all_text_columns.csv')\n",
    "dfPatients = pd.read_csv(\n",
    "    'C:/Users/alire/OneDrive/data/statman_bitbucket/aki/LLM/March2024/patients_for_python.csv'\n",
    ")\n",
    "dfCombined = pd.merge(\n",
    "    dfPatients, dfText\n",
    "    , on = ['project_id', 'operation_no']\n",
    "    , how = 'inner'\n",
    ").reset_index(drop = True)\n",
    "\n",
    "X, y = dfCombined[['is_female', 'age', 'height_residual', 'bmi', 'optime', 'diagnosis', 'operation']], np.array(dfCombined['kdigo_stage'])\n",
    "Xtext = dfCombined[['diagnosis', 'operation']]"
   ]
  },
  {
   "cell_type": "code",
   "execution_count": 2,
   "id": "a2a85855-e0b5-4cc4-8b63-a495bdfa53e4",
   "metadata": {},
   "outputs": [
    {
     "name": "stderr",
     "output_type": "stream",
     "text": [
      "C:\\Users\\alire\\anaconda3\\envs\\devTEFE\\Lib\\site-packages\\tqdm\\auto.py:21: TqdmWarning: IProgress not found. Please update jupyter and ipywidgets. See https://ipywidgets.readthedocs.io/en/stable/user_install.html\n",
      "  from .autonotebook import tqdm as notebook_tqdm\n"
     ]
    }
   ],
   "source": [
    "from sklearn.compose import ColumnTransformer\n",
    "from sklearn.pipeline import Pipeline\n",
    "from TextEmbeddingFE.embed import Textcol2Mat\n",
    "from TextEmbeddingFE.distill import Mat2ScoreClassifier\n",
    "from sklearn.linear_model import LogisticRegression"
   ]
  },
  {
   "cell_type": "code",
   "execution_count": 7,
   "id": "c2c7122d-7c05-4168-9300-071fe3c25c36",
   "metadata": {},
   "outputs": [
    {
     "data": {
      "text/plain": [
       "array([0.15326826, 0.23625347, 0.17483044, 0.15209407, 0.20931785])"
      ]
     },
     "execution_count": 7,
     "metadata": {},
     "output_type": "execute_result"
    }
   ],
   "source": [
    "textcol2Score = Pipeline([('textcol2Mat', Textcol2Mat(doc2vec_vector_size = 50)), ('mat2Score', Mat2ScoreClassifier(logit = True))])\n",
    "colTrans = ColumnTransformer(\n",
    "    [(\"textcol2Score\", textcol2Score, ['diagnosis', 'operation'])]\n",
    "    , remainder = 'passthrough'\n",
    ")\n",
    "pipe = Pipeline([('colTrans', colTrans), ('logit', LogisticRegression(penalty = None, max_iter = 100, solver = 'newton-cholesky'))])\n",
    "\n",
    "pipe.fit(X, y)\n",
    "pipe.predict_proba(X.iloc[:5, :])[:, 1]"
   ]
  },
  {
   "cell_type": "code",
   "execution_count": 5,
   "id": "1f12b185-f108-4430-bd0f-6243b904c605",
   "metadata": {},
   "outputs": [
    {
     "data": {
      "text/plain": [
       "array([[0.25135766],\n",
       "       [0.51438014],\n",
       "       [0.25135766],\n",
       "       [0.33965158],\n",
       "       [0.25135766]])"
      ]
     },
     "execution_count": 5,
     "metadata": {},
     "output_type": "execute_result"
    }
   ],
   "source": [
    "textcol2Score.fit(Xtext, y)\n",
    "textcol2Score.predict_proba(Xtext.iloc[:5, :])"
   ]
  },
  {
   "cell_type": "code",
   "execution_count": null,
   "id": "d3ca004c-622a-4926-aba0-4e48f64f75ad",
   "metadata": {},
   "outputs": [],
   "source": []
  }
 ],
 "metadata": {
  "kernelspec": {
   "display_name": "Python 3 (ipykernel)",
   "language": "python",
   "name": "python3"
  },
  "language_info": {
   "codemirror_mode": {
    "name": "ipython",
    "version": 3
   },
   "file_extension": ".py",
   "mimetype": "text/x-python",
   "name": "python",
   "nbconvert_exporter": "python",
   "pygments_lexer": "ipython3",
   "version": "3.11.9"
  }
 },
 "nbformat": 4,
 "nbformat_minor": 5
}

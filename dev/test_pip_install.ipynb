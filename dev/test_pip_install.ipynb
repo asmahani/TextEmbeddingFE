{
 "cells": [
  {
   "cell_type": "code",
   "execution_count": 2,
   "id": "0e95b73c-14e1-4a7c-946f-97175f8d0bd8",
   "metadata": {},
   "outputs": [],
   "source": [
    "from TextEmbeddingFE.main import someOtherFunction"
   ]
  },
  {
   "cell_type": "code",
   "execution_count": 3,
   "id": "ca7cccdd-c8f4-4e8d-b8ec-88078051752d",
   "metadata": {},
   "outputs": [
    {
     "data": {
      "text/plain": [
       "2"
      ]
     },
     "execution_count": 3,
     "metadata": {},
     "output_type": "execute_result"
    }
   ],
   "source": [
    "someOtherFunction()"
   ]
  },
  {
   "cell_type": "code",
   "execution_count": null,
   "id": "b724e171-4ab8-4724-bfdf-9c27be0d86c8",
   "metadata": {},
   "outputs": [],
   "source": []
  }
 ],
 "metadata": {
  "kernelspec": {
   "display_name": "Python 3 (ipykernel)",
   "language": "python",
   "name": "python3"
  },
  "language_info": {
   "codemirror_mode": {
    "name": "ipython",
    "version": 3
   },
   "file_extension": ".py",
   "mimetype": "text/x-python",
   "name": "python",
   "nbconvert_exporter": "python",
   "pygments_lexer": "ipython3",
   "version": "3.11.9"
  }
 },
 "nbformat": 4,
 "nbformat_minor": 5
}

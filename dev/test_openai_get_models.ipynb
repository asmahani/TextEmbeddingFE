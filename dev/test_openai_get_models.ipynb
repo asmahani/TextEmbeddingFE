{
 "cells": [
  {
   "cell_type": "code",
   "execution_count": 1,
   "id": "93781308-a26d-4506-b4e7-b4423caed783",
   "metadata": {},
   "outputs": [],
   "source": [
    "from dotenv import load_dotenv\n",
    "import os\n",
    "\n",
    "# Load environment variables from .env file\n",
    "load_dotenv()\n",
    "api_key = os.getenv('OPENAI_API_KEY')\n",
    "\n",
    "from openai import OpenAI\n",
    "client = OpenAI(api_key=api_key)"
   ]
  },
  {
   "cell_type": "code",
   "execution_count": 6,
   "id": "e6171a9a-384d-4e1f-a8fb-984745ecc4af",
   "metadata": {},
   "outputs": [],
   "source": [
    "models = client.models.list()\n",
    "#print(models)\n",
    "#list(models)"
   ]
  },
  {
   "cell_type": "code",
   "execution_count": null,
   "id": "00df77ee-ab4a-4389-bfa8-d1b1e89e8c18",
   "metadata": {},
   "outputs": [],
   "source": []
  }
 ],
 "metadata": {
  "kernelspec": {
   "display_name": "Python 3 (ipykernel)",
   "language": "python",
   "name": "python3"
  },
  "language_info": {
   "codemirror_mode": {
    "name": "ipython",
    "version": 3
   },
   "file_extension": ".py",
   "mimetype": "text/x-python",
   "name": "python",
   "nbconvert_exporter": "python",
   "pygments_lexer": "ipython3",
   "version": "3.11.9"
  }
 },
 "nbformat": 4,
 "nbformat_minor": 5
}

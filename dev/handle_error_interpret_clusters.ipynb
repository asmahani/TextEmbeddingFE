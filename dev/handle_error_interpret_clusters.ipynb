{
 "cells": [
  {
   "cell_type": "code",
   "execution_count": 1,
   "id": "7384c314-0b6e-41d0-b578-4549c5f7ad37",
   "metadata": {},
   "outputs": [],
   "source": [
    "from dotenv import load_dotenv\n",
    "import os\n",
    "from openai import OpenAI\n",
    "import numpy as np\n",
    "\n",
    "load_dotenv()\n",
    "api_key = os.getenv('OPENAI_API_KEY')\n",
    "client = OpenAI(api_key=api_key)"
   ]
  },
  {
   "cell_type": "code",
   "execution_count": 2,
   "id": "e396e77c-580b-487a-b664-ced1d8fdc7f3",
   "metadata": {},
   "outputs": [],
   "source": [
    "from TextEmbeddingFE.main import interpret_clusters\n",
    "\n",
    "my_out = interpret_clusters(\n",
    "    openai_client = client\n",
    "    , prompt = 'tell me a poem about cosine similarity metric'\n",
    ")"
   ]
  },
  {
   "cell_type": "code",
   "execution_count": 4,
   "id": "13282322-2a0b-4353-a22f-4a8cc0152996",
   "metadata": {},
   "outputs": [
    {
     "name": "stdout",
     "output_type": "stream",
     "text": [
      "In the realm of vectors on a chart, where angles slim and long impart,\n",
      "There exists a measure, wise and keen, known in math as cosine similarity.\n",
      "\n",
      "Amidst the spaces, dot and scale, it thrives where others oft might fail,\n",
      "Two vectors set, A and B, it seeks the closeness that there may be.\n",
      "\n",
      "Cosine, the heart of this grand measure, computes the angle, finds the treasure,\n",
      "No matter length, it sees the pose, focusing solely on the vectors' close.\n",
      "\n",
      "From zero to one, its scale does run,\n",
      "Zero means orthogonal, unity as one.\n",
      "At perfect one, aligned they stand, perfect similarity, hand in hand.\n",
      "\n",
      "Such metrics gleam in data’s night,\n",
      "Guiding machine learning's insightful light.\n",
      "In text or trend, where patterns hide,\n",
      "Cosine similarity stands a confident guide.\n",
      "\n",
      "Search engines hum its quiet song,\n",
      "In recommendations, it steers the throng,\n",
      "In clusters where data points dance,\n",
      "It sorts, aligns, gives each a chance.\n",
      "\n",
      "So cherish this tool, precise and trim,\n",
      "A mathematician's clever whim.\n",
      "In data's sea, it’s a beacon bright,\n",
      "The cosine metric, shining light.\n"
     ]
    }
   ],
   "source": [
    "print(my_out)"
   ]
  },
  {
   "cell_type": "code",
   "execution_count": 6,
   "id": "09849a54-01d8-40c4-92fd-ba33731dd2c1",
   "metadata": {},
   "outputs": [],
   "source": [
    "#interpret_clusters(openai_client = client, prompt = 'tell me a poem about cosine similarity metric', temperature = 'a')"
   ]
  },
  {
   "cell_type": "code",
   "execution_count": null,
   "id": "b9b0df81-bd4b-41d5-bf03-e0a0b4a65bce",
   "metadata": {},
   "outputs": [],
   "source": []
  }
 ],
 "metadata": {
  "kernelspec": {
   "display_name": "Python 3 (ipykernel)",
   "language": "python",
   "name": "python3"
  },
  "language_info": {
   "codemirror_mode": {
    "name": "ipython",
    "version": 3
   },
   "file_extension": ".py",
   "mimetype": "text/x-python",
   "name": "python",
   "nbconvert_exporter": "python",
   "pygments_lexer": "ipython3",
   "version": "3.11.9"
  }
 },
 "nbformat": 4,
 "nbformat_minor": 5
}

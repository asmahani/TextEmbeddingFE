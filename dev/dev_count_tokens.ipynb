{
 "cells": [
  {
   "cell_type": "code",
   "execution_count": 1,
   "id": "10dc6221-edee-4045-9859-d996a790e3c4",
   "metadata": {},
   "outputs": [],
   "source": [
    "from TextEmbeddingFE.main import count_tokens"
   ]
  },
  {
   "cell_type": "code",
   "execution_count": 2,
   "id": "edbb20e3-75b6-4e1a-9a6a-705a77db005e",
   "metadata": {},
   "outputs": [
    {
     "data": {
      "text/plain": [
       "(4, 6)"
      ]
     },
     "execution_count": 2,
     "metadata": {},
     "output_type": "execute_result"
    }
   ],
   "source": [
    "count_tokens(['hello there', 'what time is it'])"
   ]
  },
  {
   "cell_type": "code",
   "execution_count": 9,
   "id": "ca196fba-9579-48ad-8ec6-aafe4acadf73",
   "metadata": {},
   "outputs": [],
   "source": [
    "#count_tokens?"
   ]
  },
  {
   "cell_type": "code",
   "execution_count": 4,
   "id": "ba4d459f-ea66-4da4-93d9-faab31a904ab",
   "metadata": {},
   "outputs": [
    {
     "data": {
      "text/plain": [
       "(11, 13)"
      ]
     },
     "execution_count": 4,
     "metadata": {},
     "output_type": "execute_result"
    }
   ],
   "source": [
    "text_list = [\"hello world\", \"example of a longer piece of text that needs tokenizing\"]\n",
    "count_tokens(text_list = text_list)"
   ]
  },
  {
   "cell_type": "code",
   "execution_count": 8,
   "id": "dfa331a9-a893-4fbf-9b01-bfedbf77eb89",
   "metadata": {},
   "outputs": [],
   "source": [
    "#count_tokens(text_list, openai_textgen_model = 'x')"
   ]
  },
  {
   "cell_type": "code",
   "execution_count": null,
   "id": "fa67dc76-174a-4c51-99ba-4bd9697ace1e",
   "metadata": {},
   "outputs": [],
   "source": []
  }
 ],
 "metadata": {
  "kernelspec": {
   "display_name": "Python 3 (ipykernel)",
   "language": "python",
   "name": "python3"
  },
  "language_info": {
   "codemirror_mode": {
    "name": "ipython",
    "version": 3
   },
   "file_extension": ".py",
   "mimetype": "text/x-python",
   "name": "python",
   "nbconvert_exporter": "python",
   "pygments_lexer": "ipython3",
   "version": "3.11.9"
  }
 },
 "nbformat": 4,
 "nbformat_minor": 5
}
